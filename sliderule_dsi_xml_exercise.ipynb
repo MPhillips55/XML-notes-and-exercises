{
 "cells": [
  {
   "cell_type": "markdown",
   "metadata": {},
   "source": [
    "# XML example and exercise\n",
    "****\n",
    "+ study examples of accessing nodes in XML tree structure  \n",
    "+ work on exercise to be completed and submitted\n",
    "****\n",
    "+ reference: https://docs.python.org/2.7/library/xml.etree.elementtree.html\n",
    "+ data source: http://www.dbis.informatik.uni-goettingen.de/Mondial\n",
    "****"
   ]
  },
  {
   "cell_type": "code",
   "execution_count": 1,
   "metadata": {
    "collapsed": true
   },
   "outputs": [],
   "source": [
    "from xml.etree import ElementTree as ET"
   ]
  },
  {
   "cell_type": "markdown",
   "metadata": {},
   "source": [
    "## XML example\n",
    "\n",
    "+ for details about tree traversal and iterators, see https://docs.python.org/2.7/library/xml.etree.elementtree.html"
   ]
  },
  {
   "cell_type": "code",
   "execution_count": 321,
   "metadata": {
    "collapsed": true
   },
   "outputs": [],
   "source": [
    "document_tree = ET.parse( './data/mondial_database_less.xml' )"
   ]
  },
  {
   "cell_type": "code",
   "execution_count": 322,
   "metadata": {
    "collapsed": false
   },
   "outputs": [
    {
     "name": "stdout",
     "output_type": "stream",
     "text": [
      "Albania\n",
      "Greece\n",
      "Macedonia\n",
      "Serbia\n",
      "Montenegro\n",
      "Kosovo\n",
      "Andorra\n"
     ]
    }
   ],
   "source": [
    "# print names of all countries\n",
    "for child in document_tree.getroot():\n",
    "    print child.find('name').text"
   ]
  },
  {
   "cell_type": "code",
   "execution_count": 323,
   "metadata": {
    "collapsed": false
   },
   "outputs": [
    {
     "name": "stdout",
     "output_type": "stream",
     "text": [
      "* Albania: Tirana, Shkodër, Durrës, Vlorë, Elbasan, Korçë\n",
      "* Greece: Komotini, Kavala, Athina, Peiraias, Peristeri, Acharnes, Patra, Kozani, Kerkyra, Ioannina, Thessaloniki, Iraklio, Chania, Ermoupoli, Rhodes, Tripoli, Lamia, Chalkida, Larissa, Volos, Mytilini, Karyes\n",
      "* Macedonia: Skopje, Kumanovo\n",
      "* Serbia: Beograd, Novi Sad, Niš\n",
      "* Montenegro: Podgorica\n",
      "* Kosovo: Prishtine\n",
      "* Andorra: Andorra la Vella\n"
     ]
    }
   ],
   "source": [
    "# print names of all countries and their cities\n",
    "for element in document_tree.iterfind('country'):\n",
    "    print '* ' + element.find('name').text + ':',\n",
    "    capitals_string = ''\n",
    "    for subelement in element.getiterator('city'):\n",
    "        capitals_string += subelement.find('name').text + ', '\n",
    "    print capitals_string[:-2]"
   ]
  },
  {
   "cell_type": "markdown",
   "metadata": {},
   "source": [
    "****\n",
    "## XML exercise\n",
    "\n",
    "Using data in 'data/mondial_database.xml', the examples above, and refering to https://docs.python.org/2.7/library/xml.etree.elementtree.html, find\n",
    "\n",
    "1. 10 countries with the lowest infant mortality rates\n",
    "2. 10 cities with the largest population\n",
    "3. 10 ethnic groups with the largest overall populations (sum of best/latest estimates over all countries)\n",
    "4. name and country of a) longest river, b) largest lake and c) airport at highest elevation"
   ]
  },
  {
   "cell_type": "markdown",
   "metadata": {},
   "source": [
    "## 1. 10 countries with the lower infant mortality rates"
   ]
  },
  {
   "cell_type": "code",
   "execution_count": 324,
   "metadata": {
    "collapsed": true
   },
   "outputs": [],
   "source": [
    "with open( './data/mondial_database.xml', 'r') as xml_file:\n",
    "    document = ET.parse( xml_file )"
   ]
  },
  {
   "cell_type": "code",
   "execution_count": 325,
   "metadata": {
    "collapsed": false
   },
   "outputs": [],
   "source": [
    "inf_mort_dict = {}\n",
    "\n",
    "# add each country name and infant mortality rate to a dict\n",
    "for element in document.iterfind('country'):\n",
    "    country = element.find('name').text\n",
    "    try:\n",
    "        inf_mortality = float(element.find('infant_mortality').text)\n",
    "    except: \n",
    "        inf_mortality = 'N/A'\n",
    "    inf_mort_dict[country] = inf_mortality     "
   ]
  },
  {
   "cell_type": "code",
   "execution_count": 326,
   "metadata": {
    "collapsed": false
   },
   "outputs": [
    {
     "data": {
      "text/plain": [
       "[('Monaco', 1.81),\n",
       " ('Japan', 2.13),\n",
       " ('Bermuda', 2.48),\n",
       " ('Norway', 2.48),\n",
       " ('Singapore', 2.53),\n",
       " ('Sweden', 2.6),\n",
       " ('Czech Republic', 2.63),\n",
       " ('Hong Kong', 2.73),\n",
       " ('Macao', 3.13),\n",
       " ('Iceland', 3.15)]"
      ]
     },
     "execution_count": 326,
     "metadata": {},
     "output_type": "execute_result"
    }
   ],
   "source": [
    "import operator\n",
    "\n",
    "# sort the dict and print the first 10 key, value pairs\n",
    "sorted_inf_mort = sorted(inf_mort_dict.items(),key=operator.itemgetter(1))\n",
    "sorted_inf_mort[0:10]"
   ]
  },
  {
   "cell_type": "markdown",
   "metadata": {},
   "source": [
    "# 2a. 10 cities with the largest population"
   ]
  },
  {
   "cell_type": "code",
   "execution_count": 327,
   "metadata": {
    "collapsed": false
   },
   "outputs": [],
   "source": [
    "city_pop_dict = {}\n",
    "\n",
    "# add each country name and population rate to a dict\n",
    "for element in document.iterfind('country'):\n",
    "    \n",
    "    for subelement in element.getiterator('city'):\n",
    "        year = 0\n",
    "        #sub_pop_int = 0\n",
    "        city = subelement.find('name').text\n",
    "        \n",
    "        for sub in subelement.getiterator('population'):\n",
    "            int_pop = get_recent_population(sub)\n",
    "            \n",
    "            city_pop_dict[city] = int_pop\n",
    "    \n"
   ]
  },
  {
   "cell_type": "code",
   "execution_count": 328,
   "metadata": {
    "collapsed": false
   },
   "outputs": [
    {
     "data": {
      "text/plain": [
       "[('Shanghai', 22315474),\n",
       " ('Istanbul', 13710512),\n",
       " ('Mumbai', 12442373),\n",
       " ('Moskva', 11979529),\n",
       " ('Beijing', 11716620),\n",
       " (u'S\\xe3o Paulo', 11152344),\n",
       " ('Tianjin', 11090314),\n",
       " ('Guangzhou', 11071424),\n",
       " ('Delhi', 11034555),\n",
       " ('Shenzhen', 10358381)]"
      ]
     },
     "execution_count": 328,
     "metadata": {},
     "output_type": "execute_result"
    }
   ],
   "source": [
    "import operator\n",
    "# sort the dict and print the first 10 key, value pairs\n",
    "sorted_city_pop_dict = sorted(city_pop_dict.items(),key=operator.itemgetter(1), reverse=True)\n",
    "sorted_city_pop_dict[0:10]"
   ]
  },
  {
   "cell_type": "markdown",
   "metadata": {},
   "source": [
    "  ## 2b. 10 countries with the largest population \n",
    "I read the question wrong. I'll leave it here though."
   ]
  },
  {
   "cell_type": "code",
   "execution_count": 347,
   "metadata": {
    "collapsed": false
   },
   "outputs": [],
   "source": [
    "pop_dict = {}\n",
    "\n",
    "# add each country name and population rate to a dict\n",
    "for element in document.iterfind('country'):\n",
    "    country = element.find('name').text\n",
    "    pop = 0\n",
    "    # find the biggest population value under each country and add to dict\n",
    "    for subelement in element.getiterator('population'):\n",
    "\n",
    "        sub_pop = subelement.text\n",
    "        sub_pop_int = int(sub_pop)\n",
    "        if sub_pop_int > pop:\n",
    "            pop = sub_pop_int\n",
    "            pop_dict[country] = pop\n",
    "        else:\n",
    "            pass"
   ]
  },
  {
   "cell_type": "code",
   "execution_count": 348,
   "metadata": {
    "collapsed": false
   },
   "outputs": [
    {
     "data": {
      "text/plain": [
       "[('China', 1360720000),\n",
       " ('India', 1210854977),\n",
       " ('United States', 318857056),\n",
       " ('Indonesia', 252124458),\n",
       " ('Brazil', 202768562),\n",
       " ('Pakistan', 173149306),\n",
       " ('Nigeria', 164294516),\n",
       " ('Bangladesh', 149772364),\n",
       " ('Russia', 148178487),\n",
       " ('Japan', 128057352)]"
      ]
     },
     "execution_count": 348,
     "metadata": {},
     "output_type": "execute_result"
    }
   ],
   "source": [
    "# sort the dict and print the first 10 key, value pairs\n",
    "sorted_pop_dict = sorted(pop_dict.items(),key=operator.itemgetter(1), reverse=True)\n",
    "sorted_pop_dict[0:10]"
   ]
  },
  {
   "cell_type": "markdown",
   "metadata": {},
   "source": [
    "## 3. 10 ethnic groups with the largest overall populations (sum of best/latest estimates over all countries)"
   ]
  },
  {
   "cell_type": "code",
   "execution_count": 331,
   "metadata": {
    "collapsed": true
   },
   "outputs": [],
   "source": [
    "from lxml import etree\n",
    "tree = etree.parse('./data/mondial_database.xml')"
   ]
  },
  {
   "cell_type": "code",
   "execution_count": 332,
   "metadata": {
    "collapsed": false
   },
   "outputs": [],
   "source": [
    "# only interested in country populations for this problem\n",
    "# remove city/province population values\n",
    "\n",
    "for elem in tree.xpath('//city'):\n",
    "    elem.getparent().remove(elem)\n",
    "for elem in tree.xpath('//province'):\n",
    "    elem.getparent().remove(elem)"
   ]
  },
  {
   "cell_type": "code",
   "execution_count": 333,
   "metadata": {
    "collapsed": false
   },
   "outputs": [],
   "source": [
    "from collections import defaultdict\n",
    "ethnicgroup_dict = defaultdict(list)\n",
    "\n",
    "for element in tree.iterfind('country'):\n",
    "        \n",
    "    year = 0    \n",
    "    \n",
    "    # find the latest/best population estimate for each country\n",
    "    for subelement in element.getiterator('population'):               \n",
    "        latest_population = get_recent_population(subelement)\n",
    "    \n",
    "    # find each ethnic group under each country\n",
    "    for subelement in element.getiterator('ethnicgroup'):\n",
    "        \n",
    "        # ethgroup is the dict key\n",
    "        ethgroup = subelement.text\n",
    "        \n",
    "        # look inside ethnic group and find the percentage of the population for that group\n",
    "        ethpercent = subelement.attrib['percentage']\n",
    "        ethpercent_num = float(ethpercent)\n",
    "        \n",
    "        # find the total of each ethnic group in that country using the percentage\n",
    "        percent_of_pop = int(round(latest_population * (ethpercent_num / 100)))\n",
    "        \n",
    "        # write to dictionary to store values in a list\n",
    "        ethnicgroup_dict[ethgroup].append(percent_of_pop)    "
   ]
  },
  {
   "cell_type": "code",
   "execution_count": 334,
   "metadata": {
    "collapsed": true
   },
   "outputs": [],
   "source": [
    "# sum values for each dict key, add to new dict\n",
    "summed_ethgroup = {}\n",
    "for key, lis in ethnicgroup_dict.items():\n",
    "    summed_ethgroup[key] = sum(lis)"
   ]
  },
  {
   "cell_type": "code",
   "execution_count": 335,
   "metadata": {
    "collapsed": false
   },
   "outputs": [
    {
     "data": {
      "text/plain": [
       "[('Han Chinese', 1245058800),\n",
       " ('Indo-Aryan', 871815583),\n",
       " ('European', 494872221),\n",
       " ('African', 318325122),\n",
       " ('Dravidian', 302713744),\n",
       " ('Mestizo', 157734355),\n",
       " ('Bengali', 146776917),\n",
       " ('Russian', 131856994),\n",
       " ('Japanese', 126534212),\n",
       " ('Malay', 121993550)]"
      ]
     },
     "execution_count": 335,
     "metadata": {},
     "output_type": "execute_result"
    }
   ],
   "source": [
    "# sort the dict and print the first 10 key, value pairs\n",
    "sorted_ethgroup_dict = sorted(summed_ethgroup.items(),key=operator.itemgetter(1), reverse=True)\n",
    "\n",
    "# answer to the question\n",
    "sorted_ethgroup_dict[0:10]"
   ]
  },
  {
   "cell_type": "markdown",
   "metadata": {},
   "source": [
    "# 4. Name and country of a) longest river, b) largest lake and c) airport at highest elevation"
   ]
  },
  {
   "cell_type": "code",
   "execution_count": 336,
   "metadata": {
    "collapsed": true
   },
   "outputs": [],
   "source": [
    "with open( './data/mondial_database.xml', 'r') as xml_file:\n",
    "    doc = ET.parse( xml_file )"
   ]
  },
  {
   "cell_type": "markdown",
   "metadata": {},
   "source": [
    "## 4.a longest river"
   ]
  },
  {
   "cell_type": "code",
   "execution_count": 337,
   "metadata": {
    "collapsed": false
   },
   "outputs": [],
   "source": [
    "country_abbrev_dict = {}\n",
    "\n",
    "# create dict linking country name to its abbreviation\n",
    "\n",
    "for element in doc.iterfind('country'):\n",
    "    \n",
    "    # country = element.find('name').text\n",
    "    abbrev = element.attrib['car_code']\n",
    "    country = element.find('name').text\n",
    "    country_abbrev_dict[country] = abbrev"
   ]
  },
  {
   "cell_type": "code",
   "execution_count": 338,
   "metadata": {
    "collapsed": false
   },
   "outputs": [],
   "source": [
    "# initiate list to hold dicts\n",
    "river_list = []\n",
    "\n",
    "for element in doc.iterfind('river'):\n",
    "    # dict to hold river values\n",
    "    river_elems = {}\n",
    "    \n",
    "    # pull out the river name and store\n",
    "    river_name = element.find('name').text\n",
    "    \n",
    "    # pull out the river length and convert to int\n",
    "    try:\n",
    "        river_length = element.find('length').text\n",
    "        river_length_int = int(river_length)\n",
    "    except:\n",
    "        pass\n",
    "    \n",
    "    # pull out the country abbreviation\n",
    "    country = element.find('source')\n",
    "    country_abbrev = country.attrib['country']\n",
    "    \n",
    "    # populate dict with values\n",
    "    river_elems['name'] = river_name\n",
    "    river_elems['length'] = river_length_int\n",
    "    river_elems['country'] = country_abbrev\n",
    "    \n",
    "    # append dict to list of all rivers\n",
    "    river_list.append(river_elems)\n"
   ]
  },
  {
   "cell_type": "code",
   "execution_count": 339,
   "metadata": {
    "collapsed": false
   },
   "outputs": [
    {
     "data": {
      "text/plain": [
       "[{'country': 'PE', 'length': 6448, 'name': 'Amazonas'}]"
      ]
     },
     "execution_count": 339,
     "metadata": {},
     "output_type": "execute_result"
    }
   ],
   "source": [
    "# sort list of dicts based on length of river\n",
    "sort_on = 'length'\n",
    "\n",
    "sorted_river = [(dict_[sort_on], dict_) for dict_ in river_list]\n",
    "\n",
    "# reverse order for highest value first\n",
    "sorted_river.sort(reverse=True)\n",
    "\n",
    "# show only the first entry\n",
    "# from country_abbrev_dict 'PE' is Peru\n",
    "result = [dict_ for (key, dict_) in sorted_river]\n",
    "result[0:1]\n"
   ]
  },
  {
   "cell_type": "markdown",
   "metadata": {},
   "source": [
    "## 4.b largest lake"
   ]
  },
  {
   "cell_type": "code",
   "execution_count": 340,
   "metadata": {
    "collapsed": true
   },
   "outputs": [],
   "source": [
    "with open( './data/mondial_database.xml', 'r') as xml_file:\n",
    "    doc = ET.parse( xml_file )"
   ]
  },
  {
   "cell_type": "code",
   "execution_count": 341,
   "metadata": {
    "collapsed": false
   },
   "outputs": [],
   "source": [
    "# initiate list to hold dicts\n",
    "lake_list = []\n",
    "\n",
    "for element in doc.iterfind('lake'):\n",
    "    # dict to hold lake values\n",
    "    lake_elems = {}\n",
    "    \n",
    "    # pull out the lake name and store\n",
    "    lake_name = element.find('name').text\n",
    "    \n",
    "    \n",
    "    # pull out the lake area and convert to int\n",
    "    try:\n",
    "        lake_area = element.find('area').text\n",
    "        \n",
    "        lake_area_int = int(lake_area)\n",
    "        \n",
    "    except:\n",
    "        pass\n",
    "    \n",
    "    # pull out the country abbreviation\n",
    "    try:\n",
    "        located = element.find('located')\n",
    "        lake_country_abbrev = located.attrib['country']\n",
    "    except:\n",
    "        pass\n",
    "    \n",
    "    \n",
    "    # populate dict with values\n",
    "    lake_elems['name'] = lake_name\n",
    "    lake_elems['area'] = lake_area_int\n",
    "    lake_elems['country'] = lake_country_abbrev\n",
    "        \n",
    "    # append dict to list of all rivers\n",
    "    lake_list.append(lake_elems)\n"
   ]
  },
  {
   "cell_type": "code",
   "execution_count": 342,
   "metadata": {
    "collapsed": false
   },
   "outputs": [
    {
     "data": {
      "text/plain": [
       "[{'area': 386400, 'country': 'R', 'name': 'Caspian Sea'}]"
      ]
     },
     "execution_count": 342,
     "metadata": {},
     "output_type": "execute_result"
    }
   ],
   "source": [
    "# sort list of dicts based on area of lake\n",
    "sort_on = 'area'\n",
    "\n",
    "sorted_lakes = [(dict_[sort_on], dict_) for dict_ in lake_list]\n",
    "\n",
    "# reverse order for highest value first\n",
    "sorted_lakes.sort(reverse=True)\n",
    "\n",
    "# show only the first entry\n",
    "# from country_abbrev_dict 'R' is Russia\n",
    "result = [dict_ for (key, dict_) in sorted_lakes]\n",
    "result[0:1]"
   ]
  },
  {
   "cell_type": "markdown",
   "metadata": {},
   "source": [
    "## 4c. Airport at highest elevation"
   ]
  },
  {
   "cell_type": "code",
   "execution_count": 343,
   "metadata": {
    "collapsed": true
   },
   "outputs": [],
   "source": [
    "with open( './data/mondial_database.xml', 'r') as xml_file:\n",
    "    doc = ET.parse( xml_file )"
   ]
  },
  {
   "cell_type": "code",
   "execution_count": 344,
   "metadata": {
    "collapsed": false
   },
   "outputs": [],
   "source": [
    "# initiate list to hold dicts\n",
    "airport_list = []\n",
    "\n",
    "for element in doc.iterfind('airport'):\n",
    "    # dict to hold airport values\n",
    "    airport_elems = {}\n",
    "    \n",
    "    # pull out the airport name and store in variable\n",
    "    airport_name = element.find('name').text\n",
    "    \n",
    "    \n",
    "    # pull out the airport elevation and convert to int\n",
    "    try:\n",
    "        airport_elevation = element.find('elevation').text\n",
    "        \n",
    "        airport_elevation_int = int(airport_elevation)        \n",
    "    except:\n",
    "        pass\n",
    "    \n",
    "    # pull out the country abbreviation\n",
    "    try:\n",
    "        located = element.attrib['country']        \n",
    "    except:\n",
    "        pass\n",
    "    \n",
    "    \n",
    "    # populate dict with values\n",
    "    airport_elems['name'] = airport_name\n",
    "    airport_elems['elevation'] = airport_elevation_int\n",
    "    airport_elems['country'] = located\n",
    "        \n",
    "    # append dict to list of all airports\n",
    "    airport_list.append(airport_elems)"
   ]
  },
  {
   "cell_type": "code",
   "execution_count": 349,
   "metadata": {
    "collapsed": false
   },
   "outputs": [
    {
     "data": {
      "text/plain": [
       "[{'country': 'BOL', 'elevation': 4063, 'name': 'El Alto Intl'}]"
      ]
     },
     "execution_count": 349,
     "metadata": {},
     "output_type": "execute_result"
    }
   ],
   "source": [
    "# sort list of dicts based on elevation of airport\n",
    "sort_on = 'elevation'\n",
    "\n",
    "sorted_airports = [(dict_[sort_on], dict_) for dict_ in airport_list]\n",
    "\n",
    "# reverse order for highest value first\n",
    "sorted_airports.sort(reverse=True)\n",
    "\n",
    "# show only the first entry\n",
    "# from country_abbrev_dict 'BOL' is Bolivia\n",
    "result = [dict_ for (key, dict_) in sorted_airports]\n",
    "result[0:1]"
   ]
  },
  {
   "cell_type": "markdown",
   "metadata": {},
   "source": [
    "## HELPER FUNCTION"
   ]
  },
  {
   "cell_type": "code",
   "execution_count": 346,
   "metadata": {
    "collapsed": false
   },
   "outputs": [],
   "source": [
    "def get_recent_population(sub):\n",
    "    '''\n",
    "    This function takes in a subelement containing\n",
    "    a population. It sorts through each one, storing the\n",
    "    year value, and will return the population from \n",
    "    the latest year. \n",
    "    '''\n",
    "    global year\n",
    "    #global sub_pop_int\n",
    "    \n",
    "    # get this subelement year\n",
    "    sub_year = sub.attrib['year']\n",
    "    \n",
    "    # convert to int to do boolean check\n",
    "    sub_year_int = int(sub_year)\n",
    "\n",
    "    # check if this year is later than the previous ones\n",
    "    if sub_year_int > year:\n",
    "        year = sub_year_int\n",
    "        \n",
    "        #get population value from the subelement, and return\n",
    "        sub_pop = sub.text\n",
    "        latest_pop = int(sub_pop) \n",
    "        \n",
    "        return latest_pop\n",
    "        \n",
    "    else:\n",
    "        pass"
   ]
  },
  {
   "cell_type": "code",
   "execution_count": null,
   "metadata": {
    "collapsed": true
   },
   "outputs": [],
   "source": []
  }
 ],
 "metadata": {
  "anaconda-cloud": {},
  "kernelspec": {
   "display_name": "Python [default]",
   "language": "python",
   "name": "python2"
  },
  "language_info": {
   "codemirror_mode": {
    "name": "ipython",
    "version": 2
   },
   "file_extension": ".py",
   "mimetype": "text/x-python",
   "name": "python",
   "nbconvert_exporter": "python",
   "pygments_lexer": "ipython2",
   "version": "2.7.12"
  }
 },
 "nbformat": 4,
 "nbformat_minor": 0
}
